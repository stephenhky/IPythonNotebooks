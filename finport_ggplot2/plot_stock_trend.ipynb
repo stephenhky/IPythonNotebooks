{
 "cells": [
  {
   "cell_type": "code",
   "execution_count": 2,
   "metadata": {},
   "outputs": [],
   "source": [
    "from datetime import datetime\n",
    "\n",
    "import numpy as np\n",
    "import pandas as pd\n",
    "from finsim.portfolio import DynamicPortfolioWithDividends\n",
    "from matplotlib import pyplot as plt"
   ]
  },
  {
   "cell_type": "code",
   "execution_count": 1,
   "metadata": {},
   "outputs": [],
   "source": [
    "from plotnine import ggplot, aes, geom_line, theme, element_text, scale_x_datetime, labs\n",
    "from mizani.breaks import date_breaks"
   ]
  },
  {
   "cell_type": "code",
   "execution_count": 3,
   "metadata": {},
   "outputs": [],
   "source": [
    "def get_optimal_daybreaks(startdate, enddate):\n",
    "    timediff = datetime.strptime(enddate, '%Y-%m-%d') - datetime.strptime(startdate, '%Y-%m-%d')\n",
    "    nbdaysdiff = timediff.days\n",
    "    if nbdaysdiff > 730:\n",
    "        return '1 year'\n",
    "    elif nbdaysdiff > 365:\n",
    "        return '3 months'\n",
    "    elif nbdaysdiff > 30:\n",
    "        return '1 month'\n",
    "    else:\n",
    "        return '1 day'"
   ]
  },
  {
   "cell_type": "code",
   "execution_count": 19,
   "metadata": {},
   "outputs": [],
   "source": [
    "symbols_nbshares = {'VOO':1, 'QQQ': 1}\n",
    "startdate = '2022-09-01'\n",
    "enddate = '2023-02-17'"
   ]
  },
  {
   "cell_type": "code",
   "execution_count": 20,
   "metadata": {},
   "outputs": [],
   "source": [
    "portfolio = DynamicPortfolioWithDividends(symbols_nbshares, startdate)\n",
    "portfolio.move_cursor_to_date(enddate)"
   ]
  },
  {
   "cell_type": "code",
   "execution_count": 21,
   "metadata": {},
   "outputs": [
    {
     "name": "stdout",
     "output_type": "stream",
     "text": [
      "[*********************100%***********************]  1 of 1 completed\n",
      "[*********************100%***********************]  1 of 1 completed\n"
     ]
    }
   ],
   "source": [
    "worthdf = portfolio.get_portfolio_values_overtime(startdate, enddate)"
   ]
  },
  {
   "cell_type": "code",
   "execution_count": 22,
   "metadata": {},
   "outputs": [
    {
     "data": {
      "text/html": [
       "<div>\n",
       "<style scoped>\n",
       "    .dataframe tbody tr th:only-of-type {\n",
       "        vertical-align: middle;\n",
       "    }\n",
       "\n",
       "    .dataframe tbody tr th {\n",
       "        vertical-align: top;\n",
       "    }\n",
       "\n",
       "    .dataframe thead th {\n",
       "        text-align: right;\n",
       "    }\n",
       "</style>\n",
       "<table border=\"1\" class=\"dataframe\">\n",
       "  <thead>\n",
       "    <tr style=\"text-align: right;\">\n",
       "      <th></th>\n",
       "      <th>TimeStamp</th>\n",
       "      <th>stock_value</th>\n",
       "      <th>dividend</th>\n",
       "      <th>cash</th>\n",
       "      <th>value</th>\n",
       "    </tr>\n",
       "  </thead>\n",
       "  <tbody>\n",
       "    <tr>\n",
       "      <th>0</th>\n",
       "      <td>2022-09-01</td>\n",
       "      <td>663.669983</td>\n",
       "      <td>0.0</td>\n",
       "      <td>0.0</td>\n",
       "      <td>663.669983</td>\n",
       "    </tr>\n",
       "    <tr>\n",
       "      <th>1</th>\n",
       "      <td>2022-09-02</td>\n",
       "      <td>655.620026</td>\n",
       "      <td>0.0</td>\n",
       "      <td>0.0</td>\n",
       "      <td>655.620026</td>\n",
       "    </tr>\n",
       "    <tr>\n",
       "      <th>2</th>\n",
       "      <td>2022-09-06</td>\n",
       "      <td>652.289978</td>\n",
       "      <td>0.0</td>\n",
       "      <td>0.0</td>\n",
       "      <td>652.289978</td>\n",
       "    </tr>\n",
       "    <tr>\n",
       "      <th>3</th>\n",
       "      <td>2022-09-07</td>\n",
       "      <td>664.649994</td>\n",
       "      <td>0.0</td>\n",
       "      <td>0.0</td>\n",
       "      <td>664.649994</td>\n",
       "    </tr>\n",
       "    <tr>\n",
       "      <th>4</th>\n",
       "      <td>2022-09-08</td>\n",
       "      <td>668.589996</td>\n",
       "      <td>0.0</td>\n",
       "      <td>0.0</td>\n",
       "      <td>668.589996</td>\n",
       "    </tr>\n",
       "  </tbody>\n",
       "</table>\n",
       "</div>"
      ],
      "text/plain": [
       "    TimeStamp  stock_value  dividend  cash       value\n",
       "0  2022-09-01   663.669983       0.0   0.0  663.669983\n",
       "1  2022-09-02   655.620026       0.0   0.0  655.620026\n",
       "2  2022-09-06   652.289978       0.0   0.0  652.289978\n",
       "3  2022-09-07   664.649994       0.0   0.0  664.649994\n",
       "4  2022-09-08   668.589996       0.0   0.0  668.589996"
      ]
     },
     "execution_count": 22,
     "metadata": {},
     "output_type": "execute_result"
    }
   ],
   "source": [
    "worthdf.head()"
   ]
  },
  {
   "cell_type": "code",
   "execution_count": 23,
   "metadata": {},
   "outputs": [],
   "source": [
    "plotdf = pd.concat([\n",
    "    pd.DataFrame({\n",
    "    'TimeStamp': worthdf['TimeStamp'], \n",
    "    'value': worthdf['stock_value'], \n",
    "    'plot': 'stock price'}),\n",
    "    pd.DataFrame({\n",
    "        'TimeStamp': worthdf['TimeStamp'],\n",
    "        'value': worthdf['value'],\n",
    "        'plot': 'stock price+dividend'\n",
    "    })\n",
    "])"
   ]
  },
  {
   "cell_type": "code",
   "execution_count": 24,
   "metadata": {},
   "outputs": [
    {
     "data": {
      "text/html": [
       "<div>\n",
       "<style scoped>\n",
       "    .dataframe tbody tr th:only-of-type {\n",
       "        vertical-align: middle;\n",
       "    }\n",
       "\n",
       "    .dataframe tbody tr th {\n",
       "        vertical-align: top;\n",
       "    }\n",
       "\n",
       "    .dataframe thead th {\n",
       "        text-align: right;\n",
       "    }\n",
       "</style>\n",
       "<table border=\"1\" class=\"dataframe\">\n",
       "  <thead>\n",
       "    <tr style=\"text-align: right;\">\n",
       "      <th></th>\n",
       "      <th>TimeStamp</th>\n",
       "      <th>value</th>\n",
       "      <th>plot</th>\n",
       "    </tr>\n",
       "  </thead>\n",
       "  <tbody>\n",
       "    <tr>\n",
       "      <th>0</th>\n",
       "      <td>2022-09-01</td>\n",
       "      <td>663.669983</td>\n",
       "      <td>stock price</td>\n",
       "    </tr>\n",
       "    <tr>\n",
       "      <th>1</th>\n",
       "      <td>2022-09-02</td>\n",
       "      <td>655.620026</td>\n",
       "      <td>stock price</td>\n",
       "    </tr>\n",
       "    <tr>\n",
       "      <th>2</th>\n",
       "      <td>2022-09-06</td>\n",
       "      <td>652.289978</td>\n",
       "      <td>stock price</td>\n",
       "    </tr>\n",
       "    <tr>\n",
       "      <th>3</th>\n",
       "      <td>2022-09-07</td>\n",
       "      <td>664.649994</td>\n",
       "      <td>stock price</td>\n",
       "    </tr>\n",
       "    <tr>\n",
       "      <th>4</th>\n",
       "      <td>2022-09-08</td>\n",
       "      <td>668.589996</td>\n",
       "      <td>stock price</td>\n",
       "    </tr>\n",
       "    <tr>\n",
       "      <th>...</th>\n",
       "      <td>...</td>\n",
       "      <td>...</td>\n",
       "      <td>...</td>\n",
       "    </tr>\n",
       "    <tr>\n",
       "      <th>112</th>\n",
       "      <td>2023-02-13</td>\n",
       "      <td>688.165006</td>\n",
       "      <td>stock price+dividend</td>\n",
       "    </tr>\n",
       "    <tr>\n",
       "      <th>113</th>\n",
       "      <td>2023-02-14</td>\n",
       "      <td>690.274991</td>\n",
       "      <td>stock price+dividend</td>\n",
       "    </tr>\n",
       "    <tr>\n",
       "      <th>114</th>\n",
       "      <td>2023-02-15</td>\n",
       "      <td>693.895017</td>\n",
       "      <td>stock price+dividend</td>\n",
       "    </tr>\n",
       "    <tr>\n",
       "      <th>115</th>\n",
       "      <td>2023-02-16</td>\n",
       "      <td>682.804990</td>\n",
       "      <td>stock price+dividend</td>\n",
       "    </tr>\n",
       "    <tr>\n",
       "      <th>116</th>\n",
       "      <td>2023-02-17</td>\n",
       "      <td>679.695005</td>\n",
       "      <td>stock price+dividend</td>\n",
       "    </tr>\n",
       "  </tbody>\n",
       "</table>\n",
       "<p>234 rows × 3 columns</p>\n",
       "</div>"
      ],
      "text/plain": [
       "      TimeStamp       value                  plot\n",
       "0    2022-09-01  663.669983           stock price\n",
       "1    2022-09-02  655.620026           stock price\n",
       "2    2022-09-06  652.289978           stock price\n",
       "3    2022-09-07  664.649994           stock price\n",
       "4    2022-09-08  668.589996           stock price\n",
       "..          ...         ...                   ...\n",
       "112  2023-02-13  688.165006  stock price+dividend\n",
       "113  2023-02-14  690.274991  stock price+dividend\n",
       "114  2023-02-15  693.895017  stock price+dividend\n",
       "115  2023-02-16  682.804990  stock price+dividend\n",
       "116  2023-02-17  679.695005  stock price+dividend\n",
       "\n",
       "[234 rows x 3 columns]"
      ]
     },
     "execution_count": 24,
     "metadata": {},
     "output_type": "execute_result"
    }
   ],
   "source": [
    "plotdf"
   ]
  },
  {
   "cell_type": "code",
   "execution_count": 25,
   "metadata": {},
   "outputs": [
    {
     "data": {
      "image/png": "[encoded data removed]",
      "text/plain": [
       "<Figure size 640x480 with 1 Axes>"
      ]
     },
     "metadata": {},
     "output_type": "display_data"
    },
    {
     "data": {
      "text/plain": [
       "<ggplot: (8770998339057)>"
      ]
     },
     "execution_count": 25,
     "metadata": {},
     "output_type": "execute_result"
    }
   ],
   "source": [
    "plt = (ggplot(plotdf)\n",
    " + geom_line(aes('TimeStamp', 'value', color='plot', group=1))\n",
    " + theme(axis_text_x=element_text(rotation=90, hjust=1))\n",
    " + scale_x_datetime(breaks=date_breaks(get_optimal_daybreaks(startdate, enddate)))\n",
    " + labs(x='Date', y='value')\n",
    ")\n",
    "plt"
   ]
  },
  {
   "cell_type": "code",
   "execution_count": 51,
   "metadata": {},
   "outputs": [
    {
     "name": "stderr",
     "output_type": "stream",
     "text": [
      "/Users/stephenhky/opt/anaconda3/envs/finance/lib/python3.8/site-packages/plotnine/ggplot.py:718: PlotnineWarning: Saving 6.4 x 4.8 in image.\n",
      "/Users/stephenhky/opt/anaconda3/envs/finance/lib/python3.8/site-packages/plotnine/ggplot.py:719: PlotnineWarning: Filename: plot.png\n"
     ]
    }
   ],
   "source": [
    "plt.save('plot.png')"
   ]
  },
  {
   "cell_type": "code",
   "execution_count": 52,
   "metadata": {},
   "outputs": [
    {
     "data": {
      "text/plain": [
       "'0.10.1'"
      ]
     },
     "execution_count": 52,
     "metadata": {},
     "output_type": "execute_result"
    }
   ],
   "source": [
    "import plotnine\n",
    "plotnine.__version__"
   ]
  },
  {
   "cell_type": "code",
   "execution_count": null,
   "metadata": {},
   "outputs": [],
   "source": []
  }
 ],
 "metadata": {
  "kernelspec": {
   "display_name": "finance",
   "language": "python",
   "name": "python3"
  },
  "language_info": {
   "codemirror_mode": {
    "name": "ipython",
    "version": 3
   },
   "file_extension": ".py",
   "mimetype": "text/x-python",
   "name": "python",
   "nbconvert_exporter": "python",
   "pygments_lexer": "ipython3",
   "version": "3.8.0"
  },
  "orig_nbformat": 4,
  "vscode": {
   "interpreter": {
    "hash": "f7e6f756953a61d100a9bcf3015d8c8e3025ca053a6dfd468f2c54dd03b70ec7"
   }
  }
 },
 "nbformat": 4,
 "nbformat_minor": 2
}
