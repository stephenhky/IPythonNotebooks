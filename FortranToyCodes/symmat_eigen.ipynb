{
 "metadata": {
  "language_info": {
   "codemirror_mode": {
    "name": "ipython",
    "version": 3
   },
   "file_extension": ".py",
   "mimetype": "text/x-python",
   "name": "python",
   "nbconvert_exporter": "python",
   "pygments_lexer": "ipython3",
   "version": "3.8.0"
  },
  "orig_nbformat": 2,
  "kernelspec": {
   "name": "finance",
   "display_name": "Python 3.8.0 64-bit ('finance': conda)"
  }
 },
 "nbformat": 4,
 "nbformat_minor": 2,
 "cells": [
  {
   "cell_type": "code",
   "execution_count": 1,
   "metadata": {},
   "outputs": [],
   "source": [
    "import numpy as np"
   ]
  },
  {
   "cell_type": "code",
   "execution_count": 2,
   "metadata": {},
   "outputs": [],
   "source": [
    "import f90brownian"
   ]
  },
  {
   "cell_type": "code",
   "execution_count": 3,
   "metadata": {},
   "outputs": [
    {
     "output_type": "execute_result",
     "data": {
      "text/plain": [
       "(array([ 2., -2.], dtype=float32),\n",
       " array([[ 0.70710677,  0.70710677],\n",
       "        [ 0.70710677, -0.70710677]], dtype=float32))"
      ]
     },
     "metadata": {},
     "execution_count": 3
    }
   ],
   "source": [
    "f90brownian.f90brownian.symmatd2eigen(np.array([[0., 2.], [2., 0.]]))"
   ]
  },
  {
   "cell_type": "code",
   "execution_count": 4,
   "metadata": {},
   "outputs": [],
   "source": [
    "rho = np.array([[1.5, -1.75], [-1.75, 2.5]])\n",
    "z = np.array([f90brownian.f90brownian.normal2ddistsampling(rho) for _ in range(100000)])"
   ]
  },
  {
   "cell_type": "code",
   "execution_count": 5,
   "metadata": {},
   "outputs": [
    {
     "output_type": "execute_result",
     "data": {
      "text/plain": [
       "array([ 0.00373441, -0.00509215], dtype=float32)"
      ]
     },
     "metadata": {},
     "execution_count": 5
    }
   ],
   "source": [
    "np.mean(z, axis=0)"
   ]
  },
  {
   "cell_type": "code",
   "execution_count": 6,
   "metadata": {},
   "outputs": [
    {
     "output_type": "execute_result",
     "data": {
      "text/plain": [
       "array([[ 1.50693226, -1.76006904],\n",
       "       [-1.76006904,  2.5139958 ]])"
      ]
     },
     "metadata": {},
     "execution_count": 6
    }
   ],
   "source": [
    "np.cov(z.T)"
   ]
  },
  {
   "cell_type": "code",
   "execution_count": 7,
   "metadata": {},
   "outputs": [
    {
     "output_type": "execute_result",
     "data": {
      "text/plain": [
       "(array([3.8200274 , 0.17997253], dtype=float32),\n",
       " array([[-0.60219556, -0.79834867],\n",
       "        [ 0.79834867, -0.6021955 ]], dtype=float32))"
      ]
     },
     "metadata": {},
     "execution_count": 7
    }
   ],
   "source": [
    "variances, X = f90brownian.f90brownian.symmatd2eigen(rho)\n",
    "f90brownian.f90brownian.symmatd2eigen(rho)"
   ]
  },
  {
   "cell_type": "code",
   "execution_count": 8,
   "metadata": {},
   "outputs": [
    {
     "output_type": "execute_result",
     "data": {
      "text/plain": [
       "(array([0.17997253, 3.82002747]),\n",
       " array([[-0.79834865,  0.60219551],\n",
       "        [-0.60219551, -0.79834865]]))"
      ]
     },
     "metadata": {},
     "execution_count": 8
    }
   ],
   "source": [
    "lamb, evec = np.linalg.eig(rho)\n",
    "np.linalg.eig(rho)"
   ]
  },
  {
   "cell_type": "code",
   "execution_count": 9,
   "metadata": {},
   "outputs": [],
   "source": [
    "z1 = np.array([[f90brownian.f90brownian.normaldistsampling(), f90brownian.f90brownian.normaldistsampling()] for _ in range(100000)])\n",
    "z1 = z1.T"
   ]
  },
  {
   "cell_type": "code",
   "execution_count": 17,
   "metadata": {},
   "outputs": [],
   "source": [
    "# z = X @ np.diag(np.sqrt(variances)) @ z1\n",
    "z = evec @ np.diag(np.sqrt(lamb)) @ z1"
   ]
  },
  {
   "cell_type": "code",
   "execution_count": 18,
   "metadata": {},
   "outputs": [
    {
     "output_type": "execute_result",
     "data": {
      "text/plain": [
       "array([[-1.36479782, -1.18989342, -0.09586901, ...,  1.11627111,\n",
       "        -1.36600405, -1.80951177],\n",
       "       [ 2.4349731 ,  0.79027647,  0.63790499, ..., -0.81062036,\n",
       "         0.66845951,  3.27207303]])"
      ]
     },
     "metadata": {},
     "execution_count": 18
    }
   ],
   "source": [
    "z"
   ]
  },
  {
   "cell_type": "code",
   "execution_count": 19,
   "metadata": {},
   "outputs": [
    {
     "output_type": "execute_result",
     "data": {
      "text/plain": [
       "array([[-0.88806516,  1.11742914, -0.7250911 , ..., -0.9500035 ,\n",
       "         1.62176514, -1.23943222],\n",
       "       [-1.41511798, -0.6894204 , -0.29010266, ...,  0.67504656,\n",
       "        -0.69392318, -1.89406788]])"
      ]
     },
     "metadata": {},
     "execution_count": 19
    }
   ],
   "source": [
    "z1"
   ]
  },
  {
   "cell_type": "code",
   "execution_count": 20,
   "metadata": {},
   "outputs": [
    {
     "output_type": "execute_result",
     "data": {
      "text/plain": [
       "array([[ 1.50014283, -1.75012355],\n",
       "       [-1.75012355,  2.49714037]])"
      ]
     },
     "metadata": {},
     "execution_count": 20
    }
   ],
   "source": [
    "np.cov(z)"
   ]
  },
  {
   "cell_type": "code",
   "execution_count": 21,
   "metadata": {},
   "outputs": [
    {
     "output_type": "execute_result",
     "data": {
      "text/plain": [
       "array([[ 0.99408365, -0.00178182],\n",
       "       [-0.00178182,  0.99956754]])"
      ]
     },
     "metadata": {},
     "execution_count": 21
    }
   ],
   "source": [
    "np.cov(z1)"
   ]
  },
  {
   "cell_type": "code",
   "execution_count": 15,
   "metadata": {},
   "outputs": [
    {
     "output_type": "execute_result",
     "data": {
      "text/plain": [
       "array([[ 4.5, -4.5],\n",
       "       [-4.5,  4.5]])"
      ]
     },
     "metadata": {},
     "execution_count": 15
    }
   ],
   "source": [
    "np.cov(np.array([[1, -2], [-1, 2]]))"
   ]
  },
  {
   "cell_type": "code",
   "execution_count": null,
   "metadata": {},
   "outputs": [],
   "source": []
  }
 ]
}