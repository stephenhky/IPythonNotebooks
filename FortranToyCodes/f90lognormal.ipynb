{
 "metadata": {
  "language_info": {
   "codemirror_mode": {
    "name": "ipython",
    "version": 3
   },
   "file_extension": ".py",
   "mimetype": "text/x-python",
   "name": "python",
   "nbconvert_exporter": "python",
   "pygments_lexer": "ipython3",
   "version": "3.8.0"
  },
  "orig_nbformat": 2,
  "kernelspec": {
   "name": "python380jvsc74a57bd0b4c9dd453d722db3b75a98f41b227ccc748ba7d477680f72686e3f9c9d390204",
   "display_name": "Python 3.8.0 64-bit ('finance': conda)"
  }
 },
 "nbformat": 4,
 "nbformat_minor": 2,
 "cells": [
  {
   "cell_type": "code",
   "execution_count": 1,
   "metadata": {},
   "outputs": [],
   "source": [
    "import numpy as np"
   ]
  },
  {
   "cell_type": "code",
   "execution_count": 2,
   "metadata": {},
   "outputs": [],
   "source": [
    "import f90brownian"
   ]
  },
  {
   "cell_type": "code",
   "execution_count": 3,
   "metadata": {},
   "outputs": [],
   "source": [
    "S = f90brownian.f90brownian.lognormal_price_simulation(np.log(10.), 0.01, 0.005, 0.1, 1000, 10)"
   ]
  },
  {
   "cell_type": "code",
   "execution_count": 4,
   "metadata": {},
   "outputs": [
    {
     "output_type": "execute_result",
     "data": {
      "text/plain": [
       "array([[10.       , 10.014992 , 10.023854 , ..., 28.319569 , 28.358704 ,\n",
       "        28.357986 ],\n",
       "       [10.       ,  9.995133 ,  9.996137 , ..., 25.172949 , 25.21177  ,\n",
       "        25.274673 ],\n",
       "       [10.       , 10.015149 , 10.0353775, ..., 25.760633 , 25.837385 ,\n",
       "        25.814491 ],\n",
       "       ...,\n",
       "       [10.       , 10.025073 , 10.041391 , ..., 27.12213  , 27.125292 ,\n",
       "        27.148071 ],\n",
       "       [10.       , 10.028981 , 10.013621 , ..., 25.644026 , 25.60986  ,\n",
       "        25.67495  ],\n",
       "       [10.       , 10.018334 ,  9.995614 , ..., 26.171364 , 26.185108 ,\n",
       "        26.262266 ]], dtype=float32)"
      ]
     },
     "metadata": {},
     "execution_count": 4
    }
   ],
   "source": [
    "S"
   ]
  },
  {
   "cell_type": "code",
   "execution_count": null,
   "metadata": {},
   "outputs": [],
   "source": []
  }
 ]
}