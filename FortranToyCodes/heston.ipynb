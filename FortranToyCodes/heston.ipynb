{
 "metadata": {
  "language_info": {
   "codemirror_mode": {
    "name": "ipython",
    "version": 3
   },
   "file_extension": ".py",
   "mimetype": "text/x-python",
   "name": "python",
   "nbconvert_exporter": "python",
   "pygments_lexer": "ipython3",
   "version": "3.8.0"
  },
  "orig_nbformat": 2,
  "kernelspec": {
   "name": "python380jvsc74a57bd0b4c9dd453d722db3b75a98f41b227ccc748ba7d477680f72686e3f9c9d390204",
   "display_name": "Python 3.8.0 64-bit ('finance': conda)"
  }
 },
 "nbformat": 4,
 "nbformat_minor": 2,
 "cells": [
  {
   "cell_type": "code",
   "execution_count": 1,
   "metadata": {},
   "outputs": [],
   "source": [
    "import numpy as np"
   ]
  },
  {
   "cell_type": "code",
   "execution_count": 2,
   "metadata": {},
   "outputs": [],
   "source": [
    "import f90brownian"
   ]
  },
  {
   "cell_type": "code",
   "execution_count": 4,
   "metadata": {},
   "outputs": [
    {
     "output_type": "execute_result",
     "data": {
      "text/plain": [
       "(array([[  0.      , 100.176254, 100.765144, ..., 308.11688 , 308.1176  ,\n",
       "         307.84933 ],\n",
       "        [  0.      ,  99.688644, 100.138054, ..., 240.61798 , 240.9204  ,\n",
       "         241.42006 ],\n",
       "        [  0.      , 100.51373 , 100.80349 , ..., 283.8602  , 284.7795  ,\n",
       "         285.1445  ],\n",
       "        ...,\n",
       "        [  0.      ,  99.91197 ,  99.56944 , ..., 253.03621 , 250.59105 ,\n",
       "         250.92465 ],\n",
       "        [  0.      ,  99.485916,  99.239494, ..., 283.9356  , 285.57678 ,\n",
       "         285.08154 ],\n",
       "        [  0.      , 100.15539 , 100.49063 , ..., 251.67477 , 251.60806 ,\n",
       "         252.6915  ]], dtype=float32),\n",
       " array([[0.01      , 0.01000407, 0.01000387, ..., 0.01002289, 0.01002631,\n",
       "         0.01003292],\n",
       "        [0.01      , 0.00999556, 0.00999844, ..., 0.00998215, 0.00998287,\n",
       "         0.00997812],\n",
       "        [0.01      , 0.01000072, 0.00999651, ..., 0.00999455, 0.00999079,\n",
       "         0.00999375],\n",
       "        ...,\n",
       "        [0.01      , 0.00999798, 0.00999419, ..., 0.00997193, 0.00996903,\n",
       "         0.00996857],\n",
       "        [0.01      , 0.00999627, 0.01000254, ..., 0.01003164, 0.01003245,\n",
       "         0.01002847],\n",
       "        [0.01      , 0.0100021 , 0.00999837, ..., 0.00997414, 0.00997119,\n",
       "         0.00997749]], dtype=float32))"
      ]
     },
     "metadata": {},
     "execution_count": 4
    }
   ],
   "source": [
    "S = f90brownian.f90brownian.heston_price_simulation(np.log(100.), 0.01, 0.01, 0.01, 0.1, 0.0001, 0.2, 0.1, 1000, 1000)\n",
    "S"
   ]
  },
  {
   "cell_type": "code",
   "execution_count": 5,
   "metadata": {},
   "outputs": [],
   "source": [
    "from finsim.simulation.stock import HestonStockPrices"
   ]
  },
  {
   "cell_type": "code",
   "execution_count": 8,
   "metadata": {},
   "outputs": [],
   "source": [
    "heston_simulator = HestonStockPrices(100, 0.01, 0.01, 0.01, 0.1, 0.0001, 0.2)"
   ]
  },
  {
   "cell_type": "code",
   "execution_count": 19,
   "metadata": {},
   "outputs": [
    {
     "output_type": "execute_result",
     "data": {
      "text/plain": [
       "(array([[100.        ,  99.90379968,  99.82814124, ..., 297.93339538,\n",
       "         297.3756108 , 296.57074328],\n",
       "        [100.        , 100.55763265, 100.65601456, ..., 310.49652484,\n",
       "         312.6695471 , 314.1780856 ],\n",
       "        [100.        ,  99.86193949, 100.31198757, ..., 263.63925545,\n",
       "         264.4547573 , 265.2009569 ],\n",
       "        ...,\n",
       "        [100.        , 100.0129755 ,  99.5898413 , ..., 288.13457037,\n",
       "         288.78326543, 288.72808524],\n",
       "        [100.        , 100.46365992, 100.44736786, ..., 212.25410542,\n",
       "         212.88388499, 214.37231288],\n",
       "        [100.        , 100.17631864, 100.50815652, ..., 252.9594086 ,\n",
       "         254.0583577 , 254.49931214]]),\n",
       " array([[0.01      , 0.00999959, 0.01000237, ..., 0.00996056, 0.00995908,\n",
       "         0.00995579],\n",
       "        [0.01      , 0.01000918, 0.01001008, ..., 0.01000354, 0.01000603,\n",
       "         0.0100091 ],\n",
       "        [0.01      , 0.01000216, 0.0100047 , ..., 0.01001074, 0.01001496,\n",
       "         0.01001765],\n",
       "        ...,\n",
       "        [0.01      , 0.00999829, 0.01000269, ..., 0.00997762, 0.00998034,\n",
       "         0.00997989],\n",
       "        [0.01      , 0.01000124, 0.01000018, ..., 0.0100166 , 0.01001627,\n",
       "         0.01001787],\n",
       "        [0.01      , 0.01000141, 0.01000263, ..., 0.01003005, 0.01003287,\n",
       "         0.01002744]]))"
      ]
     },
     "metadata": {},
     "execution_count": 19
    }
   ],
   "source": [
    "PS = heston_simulator.generate_time_series(100, 0.1, nbsimulations=1000)\n",
    "PS"
   ]
  },
  {
   "cell_type": "code",
   "execution_count": 26,
   "metadata": {},
   "outputs": [
    {
     "output_type": "execute_result",
     "data": {
      "text/plain": [
       "110.506516"
      ]
     },
     "metadata": {},
     "execution_count": 26
    }
   ],
   "source": [
    "S100 = [S[0][i][100] for i in range(1000)]\n",
    "np.mean(S100, axis=0)"
   ]
  },
  {
   "cell_type": "code",
   "execution_count": 27,
   "metadata": {},
   "outputs": [
    {
     "output_type": "execute_result",
     "data": {
      "text/plain": [
       "110.38262156012404"
      ]
     },
     "metadata": {},
     "execution_count": 27
    }
   ],
   "source": [
    "PS100 = [PS[0][i][100] for i in range(1000)]\n",
    "np.mean(PS100, axis=0)"
   ]
  },
  {
   "cell_type": "code",
   "execution_count": null,
   "metadata": {},
   "outputs": [],
   "source": []
  }
 ]
}