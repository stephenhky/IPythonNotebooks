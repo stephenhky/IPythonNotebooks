{
 "cells": [
  {
   "cell_type": "code",
   "execution_count": 1,
   "id": "96921924-1f09-436d-b6a0-cd368ff96145",
   "metadata": {},
   "outputs": [],
   "source": [
    "import numpy as np"
   ]
  },
  {
   "cell_type": "code",
   "execution_count": 2,
   "id": "cdb2043b-6562-4890-9a46-5b9fdb7933fe",
   "metadata": {},
   "outputs": [],
   "source": [
    "def construct_p_matrix(R):\n",
    "    k = R.shape[0]\n",
    "    P = np.zeros((k, k))\n",
    "    for m in range(k):\n",
    "        P[m, m] = 1. / (np.sum(np.fromiter([1. / R[m, j] for j in range(k) if j != m], dtype=np.float_)) - (k-2))\n",
    "        for j in range(k):\n",
    "            if j != m:\n",
    "                P[m, j] = P[m, m] * (1./R[m, j] - 1)\n",
    "    return P"
   ]
  },
  {
   "cell_type": "code",
   "execution_count": 7,
   "id": "259822f6-4181-4ad0-a6b9-53fcd0557579",
   "metadata": {},
   "outputs": [],
   "source": [
    "R = np.array(\n",
    "    [\n",
    "     [0., 0.7, 0.3, 0.6, 0.55],\n",
    "     [0.3, 0., 0.8, 0.1, 0.2],\n",
    "     [0.7, 0.2, 0., 0.9, 0.95],\n",
    "     [0.4, 0.9, 0.1, 0., 0.55],\n",
    "     [0.45, 0.8, 0.05, 0.45, 0.0]\n",
    "    ]\n",
    ")"
   ]
  },
  {
   "cell_type": "code",
   "execution_count": 43,
   "id": "b79af3c4-d458-448f-8665-813451aadb6e",
   "metadata": {},
   "outputs": [],
   "source": [
    "R = np.array(\n",
    "    [\n",
    "        [0., 0.8, 0.3],\n",
    "        [0.2, 0., 0.6],\n",
    "        [0.7, 0.4, 0.]\n",
    "    ]\n",
    ")"
   ]
  },
  {
   "cell_type": "code",
   "execution_count": 3,
   "id": "7b6d4d88-733d-4e50-bea5-7b79a07f123a",
   "metadata": {},
   "outputs": [],
   "source": [
    "R = np.array(\n",
    "    [\n",
    "        [0., 0.8],\n",
    "        [0.2, 0.]\n",
    "    ]\n",
    ")"
   ]
  },
  {
   "cell_type": "code",
   "execution_count": 8,
   "id": "cde721ef-d702-4c70-bdb6-c4b548cb4522",
   "metadata": {},
   "outputs": [
    {
     "data": {
      "text/plain": [
       "array([[0.19059406, 0.08168317, 0.44471947, 0.12706271, 0.15594059],\n",
       "       [0.14070352, 0.06030151, 0.01507538, 0.54271357, 0.24120603],\n",
       "       [0.07663579, 0.7152674 , 0.17881685, 0.01986854, 0.00941141],\n",
       "       [0.12068265, 0.00893946, 0.7240959 , 0.0804551 , 0.0658269 ],\n",
       "       [0.05385557, 0.01101591, 0.8372093 , 0.05385557, 0.04406365]])"
      ]
     },
     "execution_count": 8,
     "metadata": {},
     "output_type": "execute_result"
    }
   ],
   "source": [
    "construct_p_matrix(R)"
   ]
  },
  {
   "cell_type": "code",
   "execution_count": 9,
   "id": "a9c71a17-b1ba-4534-a797-f87c032026c6",
   "metadata": {},
   "outputs": [
    {
     "data": {
      "text/plain": [
       "array([[ 1.        ,  1.        ,  1.        ,  1.        ,  1.        ],\n",
       "       [ 0.08168317, -0.93969849,  0.7152674 ,  0.00893946,  0.01101591],\n",
       "       [ 0.44471947,  0.01507538, -0.82118315,  0.7240959 ,  0.8372093 ],\n",
       "       [ 0.12706271,  0.54271357,  0.01986854, -0.9195449 ,  0.05385557],\n",
       "       [ 0.15594059,  0.24120603,  0.00941141,  0.0658269 , -0.95593635]])"
      ]
     },
     "execution_count": 9,
     "metadata": {},
     "output_type": "execute_result"
    }
   ],
   "source": [
    "M = construct_p_matrix(R).T-np.identity(5)\n",
    "M[0, :] = 1.\n",
    "M"
   ]
  },
  {
   "cell_type": "code",
   "execution_count": 10,
   "id": "3de4c507-b8bd-4830-a352-38f48cf413c9",
   "metadata": {},
   "outputs": [
    {
     "data": {
      "text/plain": [
       "array([0.11239561, 0.26651994, 0.33342059, 0.18598939, 0.10167447])"
      ]
     },
     "execution_count": 10,
     "metadata": {},
     "output_type": "execute_result"
    }
   ],
   "source": [
    "np.matmul(np.linalg.inv(M), np.array([1, 0, 0, 0, 0]).T)"
   ]
  },
  {
   "cell_type": "code",
   "execution_count": null,
   "id": "fe169b0e-1c65-46b4-86eb-8f4185c47335",
   "metadata": {},
   "outputs": [],
   "source": []
  }
 ],
 "metadata": {
  "kernelspec": {
   "display_name": "Python 3.8 (quantumphy)",
   "language": "python",
   "name": "quantumphy"
  },
  "language_info": {
   "codemirror_mode": {
    "name": "ipython",
    "version": 3
   },
   "file_extension": ".py",
   "mimetype": "text/x-python",
   "name": "python",
   "nbconvert_exporter": "python",
   "pygments_lexer": "ipython3",
   "version": "3.8.0"
  }
 },
 "nbformat": 4,
 "nbformat_minor": 5
}
