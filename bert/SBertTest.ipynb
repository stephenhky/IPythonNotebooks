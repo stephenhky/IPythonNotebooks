{
 "metadata": {
  "language_info": {
   "codemirror_mode": {
    "name": "ipython",
    "version": 3
   },
   "file_extension": ".py",
   "mimetype": "text/x-python",
   "name": "python",
   "nbconvert_exporter": "python",
   "pygments_lexer": "ipython3",
   "version": "3.8.3-final"
  },
  "orig_nbformat": 2,
  "kernelspec": {
   "name": "python3",
   "display_name": "Python 3",
   "language": "python"
  }
 },
 "nbformat": 4,
 "nbformat_minor": 2,
 "cells": [
  {
   "cell_type": "code",
   "execution_count": 2,
   "metadata": {},
   "outputs": [],
   "source": [
    "from sentence_transformers import SentenceTransformer"
   ]
  },
  {
   "cell_type": "code",
   "execution_count": 10,
   "metadata": {},
   "outputs": [],
   "source": [
    "from scipy.spatial.distance import cosine, euclidean"
   ]
  },
  {
   "cell_type": "code",
   "execution_count": 3,
   "metadata": {},
   "outputs": [
    {
     "output_type": "stream",
     "name": "stderr",
     "text": [
      "100%|██████████| 405M/405M [01:10<00:00, 5.78MB/s]\n"
     ]
    }
   ],
   "source": [
    "sbert_model = SentenceTransformer('bert-base-nli-mean-tokens')"
   ]
  },
  {
   "cell_type": "code",
   "execution_count": 6,
   "metadata": {},
   "outputs": [
    {
     "output_type": "execute_result",
     "data": {
      "text/plain": [
       "(768,)"
      ]
     },
     "metadata": {},
     "execution_count": 6
    }
   ],
   "source": [
    "sentembed = sbert_model.encode('What do you think?')\n",
    "sentembed.shape"
   ]
  },
  {
   "cell_type": "code",
   "execution_count": 7,
   "metadata": {},
   "outputs": [],
   "source": [
    "tgc_article = \"\"\"\n",
    "I know many people who loved Ravi Zacharias, near and far, for how he helped them live a more confident and knowledgeable Christianity. His books and lectures convinced thousands that they could trust God, that they could trust the biblical authors, that they could trust him as a reliable guide into the mind of Christ.\n",
    "\n",
    "Now we know he violated that trust, in some of the most heinous ways we dared not imagine.\n",
    "\n",
    "I see a lot of shock in the responses, because the details are hard to stomach. I don’t know that we’ve ever seen an evangelical leader with such a high profile perpetuate this kind of complex, years-long pattern of abuse. Many people who worked for Zacharias will suffer because they trusted him, even when allegations began to surface. His denials made a terrible situation somehow worse.\n",
    "\n",
    "But I don’t see a lot of surprise, because his abuse looks like the pattern of sexual exploitation we’ve come to understand from men who betray trust. We’ve learned to identify the steps. He preyed on the vulnerable. He leveraged his ministry influence to intimidate victims. He convinced the world he couldn’t be the kind of monster they imagine sexual predators to be.\n",
    "\n",
    "In other words, he fit the type.\n",
    "\n",
    "No One Escapes God’s Justice\n",
    "I remember a conversation in spring 2018 after some of the initial allegations had surfaced. Someone in power wanted to know what I thought about the settlement between Zacharias and one of his accusers, who had been framed as trying to blackmail the world-famous apologist.\n",
    "\n",
    "I responded that his story didn’t add up, whatever the settlement might say, and sooner or later the truth would emerge. It took his death for that truth to squeak past the defenses of money and power that all too often silence victims, alone in the pain of their self-condemning thoughts and self-harming temptations.\n",
    "\n",
    "Ravi Zacharias may have escaped justice in this world. But no one escapes justice in the next.\n",
    "\n",
    "No one can know what transpired between Zacharias and God at his judgment, whether he understood what he’d done and repented of his sins and pleaded on the blood of Christ for forgiveness. But we do know God’s justice is being done, one way or another. And the sexually immoral, apart from the righteousness of Christ, do not inherit the kingdom of God (1 Cor. 6:9–10).\n",
    "\n",
    "God help us all.\n",
    "\n",
    "Digital Revolution\n",
    "We live in a time when digital publishing has helped enterprising journalists and courageous victims tell the truth. Some of those journalists paid a price when they told the world what we didn’t want to hear about Zacharias. All too often threats of financial retaliation have kept victims and their allies from speaking out, and periodicals from publishing them. But new media have changed the landscape and shifted power toward the abused. Now you can find a sympathetic ear somewhere on the internet, and with that person’s help, you can stand up against multimillion-dollar ministries with everything to lose if the truth is exposed.\n",
    "\n",
    "The world loves its heroes, but it’s also learning to believe victims, now that we’ve heard from more and more of them. Abusers may be able to switch towns, change churches, and start new ministries, but the internet will not allow them to evade scrutiny. Adoring new fans may emerge to subsidize their false teaching or abusive behaviors, but the internet will not allow them to silence all past victims.\n",
    "\n",
    "At the same time, digital communications helped Zacharias in his abuse. Indeed, it would be hard to imagine this crime without the ubiquity of smartphones for taking and sharing sexual images. It’s not just boys in junior high who know how to demand nude selfies. We used to think the Billy Graham Rule and windows on the pastor’s door would protect victims. Now we know they’re more likely to be targeted through text messages on burner phones.\n",
    "\n",
    "It would be hard to imagine this crime without the ubiquity of smartphones for taking and sharing sexual images.\n",
    "\n",
    " \n",
    "Sex is increasingly disembodied with the ubiquity of porn. Abuse follows the same pattern. Ministry policies for prevention and protection must fully account for this shift.\n",
    "\n",
    "What Can Be Done?\n",
    "The regular drumbeat of revelations about Christian leaders and sexual abuse can lead to two conclusions. Either we despair of ever finding integrity in our heroes. Or we demand changes to prevent abuse once and for all. But neither approach, despair or demand, will lead us to lasting change.\n",
    "\n",
    "It’s understandable to see Zacharias, like many before him, and doubt that we should look up to anyone in the faith. We may think that by managing low expectations of our leaders, or even by mistrusting them by default, we’re protecting ourselves and others. Human accountability is good. But it can’t match accountability from God, who alone knows and sees all. That’s why we can obey our leaders and submit to them. They will give an account, as Zacharias must now (Heb. 13:17). No human leader is a sure thing. But God’s justice will never fail us. We need not despair, since God is with us.\n",
    "\n",
    "Human accountability is good. But it can’t match accountability from God, who alone knows and sees all.\n",
    "\n",
    " \n",
    "Likewise, demands for change are warranted. But anyone familiar with the best methods for filtering explicit internet content knows they can be evaded. Where there’s a will to sin, there’s a way. These filters surely help, but they cannot deliver righteousness. The same goes for any demand to prevent abuse. Every ministry needs a good plan, but not even the best plans can guarantee your safety.\n",
    "\n",
    "Zacharias went to extraordinary lengths to cover for his abuse. And he seemed to have help. That’s why the best plans don’t always work. Sometimes the people who implemented the plans have every incentive to evade them. The one who programmed the security system knows all the loopholes. We may never know who knew what and when inside Ravi Zacharias International Ministries. The initial report is inconclusive. Perhaps more leaders will reveal the truth in coming days. But we know from human nature that ministries have every worldly motive to discredit their accusers and protect their namesake.\n",
    "\n",
    "I don’t think I’ve ever seen a ministry in which tens of millions of dollars in revenue and multiple family members in leadership positions has ended well. And don’t think that Zacharias was the last one standing. It’s a common form of governance for many ministries seeking your financial support. Anyone who’s been a part of an inheritance dispute can tell you that combining money and family often results in pain and broken trust.\n",
    "\n",
    "Only One Path Forward\n",
    "Ravi Zacharias broke our trust. He broke our trust by first and foremost violating the trust of vulnerable, exposed women. We agonize on their behalf and beg God that no one else would suffer as they did. We lament this grievous evil. We renew our commitment to repair what injustice has destroyed.\n",
    "\n",
    "There’s only one path from here, and it’s the one the Savior showed us. “Do nothing from selfish ambition or conceit, but in humility count others more significant than yourselves. Let each of you look not only to his own interests, but also to the interests of others” (Phil. 2:3-4).\n",
    "\n",
    "Leaders, because Jesus took the form of a servant for us, we can serve others. We must not exploit them for our sexual or financial gain. We must tremble before the judgment of God, because we will give an account. Because Christ shed his blood for us, we can tend to the wounded. We worship the God who is “near to the brokenhearted,” the God who “saves the crushed in spirit” (Ps. 34:18).\n",
    "\n",
    "For anyone who’s suffered abuse, past and present, you can know that justice will be done, sooner or later. Be assured: “God opposes the proud but gives grace to the humble” (1 Pet. 5:5).\n",
    "\"\"\""
   ]
  },
  {
   "cell_type": "code",
   "execution_count": 9,
   "metadata": {},
   "outputs": [
    {
     "output_type": "execute_result",
     "data": {
      "text/plain": [
       "(768,)"
      ]
     },
     "metadata": {},
     "execution_count": 9
    }
   ],
   "source": [
    "tgc_embed = sbert_model.encode(tgc_article)\n",
    "tgc_embed.shape"
   ]
  },
  {
   "cell_type": "code",
   "execution_count": 11,
   "metadata": {},
   "outputs": [
    {
     "output_type": "execute_result",
     "data": {
      "text/plain": [
       "1.1141230836510658"
      ]
     },
     "metadata": {},
     "execution_count": 11
    }
   ],
   "source": [
    "cosine(tgc_embed, sentembed)"
   ]
  },
  {
   "cell_type": "code",
   "execution_count": 12,
   "metadata": {},
   "outputs": [
    {
     "output_type": "execute_result",
     "data": {
      "text/plain": [
       "24.438655853271484"
      ]
     },
     "metadata": {},
     "execution_count": 12
    }
   ],
   "source": [
    "euclidean(tgc_embed, sentembed)"
   ]
  },
  {
   "cell_type": "code",
   "execution_count": null,
   "metadata": {},
   "outputs": [],
   "source": []
  }
 ]
}