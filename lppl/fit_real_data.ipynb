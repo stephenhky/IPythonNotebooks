{
 "cells": [
  {
   "cell_type": "code",
   "execution_count": 23,
   "metadata": {},
   "outputs": [],
   "source": [
    "import numpy as np\n",
    "import pandas as pd\n",
    "from matplotlib import pyplot as plt\n",
    "from finsim.data import get_yahoofinance_data\n",
    "\n",
    "from lppl.fit import LPPLModel"
   ]
  },
  {
   "cell_type": "code",
   "execution_count": 2,
   "metadata": {},
   "outputs": [
    {
     "name": "stdout",
     "output_type": "stream",
     "text": [
      "[*********************100%***********************]  1 of 1 completed\n"
     ]
    }
   ],
   "source": [
    "symdf = get_yahoofinance_data('^GSPC', '2005-01-01', '2008-10-11')"
   ]
  },
  {
   "cell_type": "code",
   "execution_count": 3,
   "metadata": {},
   "outputs": [
    {
     "data": {
      "text/html": [
       "<div>\n",
       "<style scoped>\n",
       "    .dataframe tbody tr th:only-of-type {\n",
       "        vertical-align: middle;\n",
       "    }\n",
       "\n",
       "    .dataframe tbody tr th {\n",
       "        vertical-align: top;\n",
       "    }\n",
       "\n",
       "    .dataframe thead th {\n",
       "        text-align: right;\n",
       "    }\n",
       "</style>\n",
       "<table border=\"1\" class=\"dataframe\">\n",
       "  <thead>\n",
       "    <tr style=\"text-align: right;\">\n",
       "      <th></th>\n",
       "      <th>TimeStamp</th>\n",
       "      <th>Open</th>\n",
       "      <th>High</th>\n",
       "      <th>Low</th>\n",
       "      <th>Close</th>\n",
       "      <th>Adj Close</th>\n",
       "      <th>Volume</th>\n",
       "    </tr>\n",
       "    <tr>\n",
       "      <th>Date</th>\n",
       "      <th></th>\n",
       "      <th></th>\n",
       "      <th></th>\n",
       "      <th></th>\n",
       "      <th></th>\n",
       "      <th></th>\n",
       "      <th></th>\n",
       "    </tr>\n",
       "  </thead>\n",
       "  <tbody>\n",
       "    <tr>\n",
       "      <th>2005-01-03</th>\n",
       "      <td>2005-01-03</td>\n",
       "      <td>1211.920044</td>\n",
       "      <td>1217.800049</td>\n",
       "      <td>1200.319946</td>\n",
       "      <td>1202.079956</td>\n",
       "      <td>1202.079956</td>\n",
       "      <td>1510800000</td>\n",
       "    </tr>\n",
       "    <tr>\n",
       "      <th>2005-01-04</th>\n",
       "      <td>2005-01-04</td>\n",
       "      <td>1202.079956</td>\n",
       "      <td>1205.839966</td>\n",
       "      <td>1185.390015</td>\n",
       "      <td>1188.050049</td>\n",
       "      <td>1188.050049</td>\n",
       "      <td>1721000000</td>\n",
       "    </tr>\n",
       "    <tr>\n",
       "      <th>2005-01-05</th>\n",
       "      <td>2005-01-05</td>\n",
       "      <td>1188.050049</td>\n",
       "      <td>1192.729980</td>\n",
       "      <td>1183.719971</td>\n",
       "      <td>1183.739990</td>\n",
       "      <td>1183.739990</td>\n",
       "      <td>1738900000</td>\n",
       "    </tr>\n",
       "    <tr>\n",
       "      <th>2005-01-06</th>\n",
       "      <td>2005-01-06</td>\n",
       "      <td>1183.739990</td>\n",
       "      <td>1191.630005</td>\n",
       "      <td>1183.270020</td>\n",
       "      <td>1187.890015</td>\n",
       "      <td>1187.890015</td>\n",
       "      <td>1569100000</td>\n",
       "    </tr>\n",
       "    <tr>\n",
       "      <th>2005-01-07</th>\n",
       "      <td>2005-01-07</td>\n",
       "      <td>1187.890015</td>\n",
       "      <td>1192.199951</td>\n",
       "      <td>1182.160034</td>\n",
       "      <td>1186.189941</td>\n",
       "      <td>1186.189941</td>\n",
       "      <td>1477900000</td>\n",
       "    </tr>\n",
       "    <tr>\n",
       "      <th>...</th>\n",
       "      <td>...</td>\n",
       "      <td>...</td>\n",
       "      <td>...</td>\n",
       "      <td>...</td>\n",
       "      <td>...</td>\n",
       "      <td>...</td>\n",
       "      <td>...</td>\n",
       "    </tr>\n",
       "    <tr>\n",
       "      <th>2008-10-06</th>\n",
       "      <td>2008-10-06</td>\n",
       "      <td>1097.560059</td>\n",
       "      <td>1097.560059</td>\n",
       "      <td>1007.969971</td>\n",
       "      <td>1056.890015</td>\n",
       "      <td>1056.890015</td>\n",
       "      <td>7956020000</td>\n",
       "    </tr>\n",
       "    <tr>\n",
       "      <th>2008-10-07</th>\n",
       "      <td>2008-10-07</td>\n",
       "      <td>1057.599976</td>\n",
       "      <td>1072.910034</td>\n",
       "      <td>996.229980</td>\n",
       "      <td>996.229980</td>\n",
       "      <td>996.229980</td>\n",
       "      <td>7069210000</td>\n",
       "    </tr>\n",
       "    <tr>\n",
       "      <th>2008-10-08</th>\n",
       "      <td>2008-10-08</td>\n",
       "      <td>988.909973</td>\n",
       "      <td>1021.059998</td>\n",
       "      <td>970.969971</td>\n",
       "      <td>984.940002</td>\n",
       "      <td>984.940002</td>\n",
       "      <td>8716330000</td>\n",
       "    </tr>\n",
       "    <tr>\n",
       "      <th>2008-10-09</th>\n",
       "      <td>2008-10-09</td>\n",
       "      <td>988.419983</td>\n",
       "      <td>1005.250000</td>\n",
       "      <td>909.190002</td>\n",
       "      <td>909.919983</td>\n",
       "      <td>909.919983</td>\n",
       "      <td>6819000000</td>\n",
       "    </tr>\n",
       "    <tr>\n",
       "      <th>2008-10-10</th>\n",
       "      <td>2008-10-10</td>\n",
       "      <td>902.309998</td>\n",
       "      <td>936.359985</td>\n",
       "      <td>839.799988</td>\n",
       "      <td>899.219971</td>\n",
       "      <td>899.219971</td>\n",
       "      <td>11456230000</td>\n",
       "    </tr>\n",
       "  </tbody>\n",
       "</table>\n",
       "<p>951 rows × 7 columns</p>\n",
       "</div>"
      ],
      "text/plain": [
       "            TimeStamp         Open         High          Low        Close  \\\n",
       "Date                                                                        \n",
       "2005-01-03 2005-01-03  1211.920044  1217.800049  1200.319946  1202.079956   \n",
       "2005-01-04 2005-01-04  1202.079956  1205.839966  1185.390015  1188.050049   \n",
       "2005-01-05 2005-01-05  1188.050049  1192.729980  1183.719971  1183.739990   \n",
       "2005-01-06 2005-01-06  1183.739990  1191.630005  1183.270020  1187.890015   \n",
       "2005-01-07 2005-01-07  1187.890015  1192.199951  1182.160034  1186.189941   \n",
       "...               ...          ...          ...          ...          ...   \n",
       "2008-10-06 2008-10-06  1097.560059  1097.560059  1007.969971  1056.890015   \n",
       "2008-10-07 2008-10-07  1057.599976  1072.910034   996.229980   996.229980   \n",
       "2008-10-08 2008-10-08   988.909973  1021.059998   970.969971   984.940002   \n",
       "2008-10-09 2008-10-09   988.419983  1005.250000   909.190002   909.919983   \n",
       "2008-10-10 2008-10-10   902.309998   936.359985   839.799988   899.219971   \n",
       "\n",
       "              Adj Close       Volume  \n",
       "Date                                  \n",
       "2005-01-03  1202.079956   1510800000  \n",
       "2005-01-04  1188.050049   1721000000  \n",
       "2005-01-05  1183.739990   1738900000  \n",
       "2005-01-06  1187.890015   1569100000  \n",
       "2005-01-07  1186.189941   1477900000  \n",
       "...                 ...          ...  \n",
       "2008-10-06  1056.890015   7956020000  \n",
       "2008-10-07   996.229980   7069210000  \n",
       "2008-10-08   984.940002   8716330000  \n",
       "2008-10-09   909.919983   6819000000  \n",
       "2008-10-10   899.219971  11456230000  \n",
       "\n",
       "[951 rows x 7 columns]"
      ]
     },
     "execution_count": 3,
     "metadata": {},
     "output_type": "execute_result"
    }
   ],
   "source": [
    "symdf"
   ]
  },
  {
   "cell_type": "code",
   "execution_count": 20,
   "metadata": {},
   "outputs": [
    {
     "data": {
      "text/plain": [
       "[<matplotlib.lines.Line2D at 0x7f9e398a7ac0>]"
      ]
     },
     "execution_count": 20,
     "metadata": {},
     "output_type": "execute_result"
    },
    {
     "data": {
      "image/png": "[encoded data removed]",
      "text/plain": [
       "<Figure size 432x288 with 1 Axes>"
      ]
     },
     "metadata": {
      "needs_background": "light"
     },
     "output_type": "display_data"
    }
   ],
   "source": [
    "plt.plot(symdf['TimeStamp'].map(lambda ts: ts.timestamp()), symdf['Close'])"
   ]
  },
  {
   "cell_type": "code",
   "execution_count": 16,
   "metadata": {},
   "outputs": [],
   "source": [
    "fitted_lppl_model = LPPLModel()\n",
    "fitted_lppl_model.fit(symdf['TimeStamp'].map(lambda ts: ts.timestamp()), symdf['Close'])"
   ]
  },
  {
   "cell_type": "code",
   "execution_count": 19,
   "metadata": {},
   "outputs": [
    {
     "name": "stdout",
     "output_type": "stream",
     "text": [
      "tc: 1223596815.9106998\n",
      "m: 0.9\n",
      "omega: 0.995287632704116\n",
      "A: 7.026182608556877\n",
      "B: 4.295580221699303e-08\n",
      "C: 4.3901717725295146e-08\n",
      "phi: 1.781772017247832e-05\n"
     ]
    }
   ],
   "source": [
    "print(fitted_lppl_model)"
   ]
  },
  {
   "cell_type": "code",
   "execution_count": 21,
   "metadata": {},
   "outputs": [
    {
     "data": {
      "text/plain": [
       "[<matplotlib.lines.Line2D at 0x7f9e3994b8b0>]"
      ]
     },
     "execution_count": 21,
     "metadata": {},
     "output_type": "execute_result"
    },
    {
     "data": {
      "image/png": "[encoded data removed]",
      "text/plain": [
       "<Figure size 432x288 with 1 Axes>"
      ]
     },
     "metadata": {
      "needs_background": "light"
     },
     "output_type": "display_data"
    }
   ],
   "source": [
    "plt.plot(symdf['TimeStamp'].map(lambda ts: ts.timestamp()), fitted_lppl_model(symdf['TimeStamp'].map(lambda ts: ts.timestamp())))"
   ]
  },
  {
   "cell_type": "code",
   "execution_count": 25,
   "metadata": {},
   "outputs": [
    {
     "data": {
      "text/plain": [
       "Date\n",
       "2005-01-03   2005-01-02 19:00:00\n",
       "2005-01-04   2005-01-03 19:00:00\n",
       "2005-01-05   2005-01-04 19:00:00\n",
       "2005-01-06   2005-01-05 19:00:00\n",
       "2005-01-07   2005-01-06 19:00:00\n",
       "                     ...        \n",
       "2008-10-06   2008-10-05 20:00:00\n",
       "2008-10-07   2008-10-06 20:00:00\n",
       "2008-10-08   2008-10-07 20:00:00\n",
       "2008-10-09   2008-10-08 20:00:00\n",
       "2008-10-10   2008-10-09 20:00:00\n",
       "Name: TimeStamp, Length: 951, dtype: datetime64[ns]"
      ]
     },
     "execution_count": 25,
     "metadata": {},
     "output_type": "execute_result"
    }
   ],
   "source": [
    "symdf['TimeStamp'].map(lambda ts: ts.timestamp()).map(lambda f: pd.Timestamp.fromtimestamp(f))"
   ]
  },
  {
   "cell_type": "code",
   "execution_count": null,
   "metadata": {},
   "outputs": [],
   "source": []
  }
 ],
 "metadata": {
  "kernelspec": {
   "display_name": "finance",
   "language": "python",
   "name": "python3"
  },
  "language_info": {
   "codemirror_mode": {
    "name": "ipython",
    "version": 3
   },
   "file_extension": ".py",
   "mimetype": "text/x-python",
   "name": "python",
   "nbconvert_exporter": "python",
   "pygments_lexer": "ipython3",
   "version": "3.8.0"
  }
 },
 "nbformat": 4,
 "nbformat_minor": 2
}
