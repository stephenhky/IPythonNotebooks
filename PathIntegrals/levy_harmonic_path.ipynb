{
 "cells": [
  {
   "cell_type": "code",
   "execution_count": 1,
   "metadata": {},
   "outputs": [],
   "source": [
    "import numpy as np\n",
    "import numba as nb\n",
    "from matplotlib import pyplot as plt"
   ]
  },
  {
   "cell_type": "code",
   "execution_count": 3,
   "metadata": {},
   "outputs": [],
   "source": [
    "beta = 4.0\n",
    "nbpts = 10000\n",
    "xstart, xend = 0.0, 1.0\n",
    "nsteps = 100000"
   ]
  },
  {
   "cell_type": "code",
   "execution_count": 4,
   "metadata": {},
   "outputs": [],
   "source": [
    "@nb.njit(nb.float64[:](nb.float64, nb.int32, nb.float64, nb.float64))\n",
    "def levy_harmonic_path(beta, nbpts, xstart, xend):\n",
    "    dtau = beta / nbpts\n",
    "    x = np.zeros(nbpts+1)\n",
    "    x[0] = xstart\n",
    "    x[nbpts] = xend\n",
    "\n",
    "    for k in range(1, nbpts):\n",
    "        dtau_prime = (nbpts - k) * dtau\n",
    "        Ups1 = 1 / np.tanh(dtau) + 1 / np.tanh(dtau_prime)\n",
    "        Ups2 = x[k-1] / np.sinh(dtau) + x[nbpts] / np.sinh(dtau_prime)\n",
    "        meanxk = Ups2 / Ups1\n",
    "        sigma = np.reciprocal(np.sqrt(Ups1))\n",
    "        x[k] = np.random.normal(meanxk, sigma)\n",
    "        \n",
    "    return x"
   ]
  },
  {
   "cell_type": "code",
   "execution_count": 5,
   "metadata": {},
   "outputs": [],
   "source": [
    "x = np.zeros((nsteps, nbpts+1))\n",
    "for step in range(nsteps):\n",
    "    x[step, :] = levy_harmonic_path(beta, nbpts, xstart, xend)"
   ]
  },
  {
   "cell_type": "code",
   "execution_count": 6,
   "metadata": {},
   "outputs": [],
   "source": [
    "plt.hist(x[:, nbpts // 2])"
   ]
  },
  {
   "cell_type": "code",
   "execution_count": null,
   "metadata": {},
   "outputs": [],
   "source": []
  }
 ],
 "metadata": {
  "kernelspec": {
   "display_name": "quantumphy",
   "language": "python",
   "name": "python3"
  },
  "language_info": {
   "codemirror_mode": {
    "name": "ipython",
    "version": 3
   },
   "file_extension": ".py",
   "mimetype": "text/x-python",
   "name": "python",
   "nbconvert_exporter": "python",
   "pygments_lexer": "ipython3",
   "version": "3.10.13"
  }
 },
 "nbformat": 4,
 "nbformat_minor": 2
}
